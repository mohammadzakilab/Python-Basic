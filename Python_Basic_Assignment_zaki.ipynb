{
  "nbformat": 4,
  "nbformat_minor": 0,
  "metadata": {
    "colab": {
      "provenance": []
    },
    "kernelspec": {
      "name": "python3",
      "display_name": "Python 3"
    },
    "language_info": {
      "name": "python"
    }
  },
  "cells": [
    {
      "cell_type": "markdown",
      "source": [
        "#Python Basic"
      ],
      "metadata": {
        "id": "cDzotZhfJNhx"
      }
    },
    {
      "cell_type": "markdown",
      "source": [
        "1. What is Python, and why is it popular?\n",
        "   - Python is a high-level, interpreted programming language. It is popular because it is easy to learn, easy to read and used for many things like websites, data analysis and automation."
      ],
      "metadata": {
        "id": "Pq6qm78lJf7c"
      }
    },
    {
      "cell_type": "markdown",
      "source": [
        "2. What is an interpreter in Python?\n",
        "   - An interpreter in Python is a program that reads and runs your Python code line by line."
      ],
      "metadata": {
        "id": "1ftfPuIWK1q2"
      }
    },
    {
      "cell_type": "markdown",
      "source": [
        "3.  What are pre-defined keywords in Python?\n",
        "    - In Python, pre-defined keywords are special words that have fixed meanings and purposes in the language.\n",
        "    Examples of python Keywords:\n",
        "    \n",
        "    Control flow: if, else, elif, for, while, break, continue, pass\n",
        "\n",
        "    Boolean/Logic: True, False, None, and, or, not, is, in\n",
        "\n",
        "    Functions & Classes: def, return, class, lambda, yield\n",
        "\n",
        "    Exceptions & Error Handling: try, except, finally, raise, assert\n",
        "\n",
        "    Import & Module: import, from, as, global, nonlocal\n",
        "\n",
        "    Other: with, del"
      ],
      "metadata": {
        "id": "s982axOuLPGy"
      }
    },
    {
      "cell_type": "markdown",
      "source": [
        "4. Can keywords be used as variable names?\n",
        "   - No, in Python, keywords cannot be used as variable names because they are reserved words with special meaning in the language."
      ],
      "metadata": {
        "id": "f1SgFW7eMvBC"
      }
    },
    {
      "cell_type": "markdown",
      "source": [
        "5. What is mutability in Python?\n",
        "   - Objects/containers whose state or value can be changed after they are created are called mutable objects, also called as item asignments. In Python, mutability refers to whether the value of an object can be changed after it is created.\n",
        "   \n",
        "   Mutable objects: Their values can be modified in place.\n",
        "   Examples: list, dict, set\n",
        "\n",
        "   Immutable objects: Their values cannot be changed; any modification creates a new object.\n",
        "   Examples: int, float, str, tuple"
      ],
      "metadata": {
        "id": "tl1diUCtNPat"
      }
    },
    {
      "cell_type": "markdown",
      "source": [
        "6. Why are lists mutable, but tuples are immutable?\n",
        "   - Lists are mutable because they are designed to allow modification of elements (add, remove, change).\n",
        "Tuples are immutable because they are meant to store fixed collections, making them faster and safe to use where data should not change."
      ],
      "metadata": {
        "id": "1p9zWjazPhqn"
      }
    },
    {
      "cell_type": "markdown",
      "source": [
        "7. What is the difference between “==” and “is” operators in Python?\n",
        "   - In Python, == compares the values of two objects to check if they are equal, while is compares the identity of two objects to check if they are the same object in memory.\n",
        "    == → value equality,  is → identity equality"
      ],
      "metadata": {
        "id": "fr1UeVZ2QPrQ"
      }
    },
    {
      "cell_type": "markdown",
      "source": [
        "8. What are logical operators in Python?\n",
        "   - Logical operators in Python are used to combine conditional statements and return a Boolean result (True or False).\n",
        "   The three logical operators are:\n",
        "   \n",
        "    and → Returns True if both conditions are true.\n",
        "\n",
        "    or → Returns True if at least one condition is true.\n",
        "\n",
        "    not → Returns the opposite of the condition (negation)."
      ],
      "metadata": {
        "id": "bYS2H_39Q8F5"
      }
    },
    {
      "cell_type": "markdown",
      "source": [
        "9. What is type casting in Python?\n",
        "   - Type casting in Python is the process of converting one data type into another. It is used to make variables compatible for operations.\n",
        "   Types of Type casting:\n",
        "\n",
        "   Implicit Type Casting: Done automatically by Python (e.g., int to float).\n",
        "\n",
        "   Explicit Type Casting: Done manually using functions like int(), float(), str(), etc."
      ],
      "metadata": {
        "id": "OF_7m56sRtuu"
      }
    },
    {
      "cell_type": "markdown",
      "source": [
        "10. What is the difference between implicit and explicit type casting?\n",
        "    - The difference between implicit and explicit type casting in Python is:\n",
        "\n",
        "    Implicit Type Casting:\n",
        "\n",
        "    1) Done automatically by Python.\n",
        "\n",
        "    2) No data loss occurs.\n",
        "\n",
        "    \n",
        "    Explicit Type Casting (Type Casting):\n",
        "\n",
        "    1) Done manually by the programmer using functions like int(), float(), str().\n",
        "\n",
        "    2) May cause data loss."
      ],
      "metadata": {
        "id": "g4L8665FSoWF"
      }
    },
    {
      "cell_type": "markdown",
      "source": [
        "11. What is the purpose of conditional statements in Python?\n",
        "    - The purpose of conditional statements in Python is to make decisions in a program by executing different blocks of code based on whether a condition is True or False. They allow the program to control the flow and perform actions depending on conditions.\n",
        "    \n",
        "       Examples of conditional statements: if, elif, else"
      ],
      "metadata": {
        "id": "ibJTP6CNTd0H"
      }
    },
    {
      "cell_type": "markdown",
      "source": [
        "12. How does the elif statement work?\n",
        "    - The elif statement in Python is used to check multiple conditions after an if statement.\n",
        "    \n",
        "    It stands for \"else if\".\n",
        "    \n",
        "    It is executed only if the previous conditions are False.\n",
        "\n",
        "    Multiple elif statements can be used in a program."
      ],
      "metadata": {
        "id": "RMsxposKUBzd"
      }
    },
    {
      "cell_type": "markdown",
      "source": [
        "13. What is the difference between for and while loops?\n",
        "    - The difference between for and while loops in Python is:\n",
        "\n",
        "    For loop:\n",
        "\n",
        "    1) Used when the number of iterations is known.\n",
        "\n",
        "    2) Iterates over a sequence (like list, tuple, string, range).\n",
        "\n",
        "    \n",
        "    while loop:\n",
        "\n",
        "    1) Used when the number of iterations is not known and depends on a condition.\n",
        "\n",
        "    2) Runs until the condition becomes False."
      ],
      "metadata": {
        "id": "EcAQ1Jb4Ulx_"
      }
    },
    {
      "cell_type": "markdown",
      "source": [
        "14. Describe a scenario where a while loop is more suitable than a for loop.\n",
        "    - A while loop is more suitable when the number of iterations is not known in advance and depends on a condition being met."
      ],
      "metadata": {
        "id": "lUChtSA3VhtT"
      }
    },
    {
      "cell_type": "code",
      "source": [
        "# 1.  Write a Python program to print \"Hello, World!\n",
        "\n",
        "print(\"Hello, World!\")"
      ],
      "metadata": {
        "colab": {
          "base_uri": "https://localhost:8080/"
        },
        "id": "0G-8G814WU1-",
        "outputId": "263a1488-aaeb-46ed-97c9-c0b213e1612d"
      },
      "execution_count": 5,
      "outputs": [
        {
          "output_type": "stream",
          "name": "stdout",
          "text": [
            "Hello, World!\n"
          ]
        }
      ]
    },
    {
      "cell_type": "code",
      "execution_count": 6,
      "metadata": {
        "colab": {
          "base_uri": "https://localhost:8080/"
        },
        "id": "a_yU4xIrP_yy",
        "outputId": "6ed909cf-5eee-4e47-80ce-7a80cea0dea1"
      },
      "outputs": [
        {
          "output_type": "stream",
          "name": "stdout",
          "text": [
            "My name is: Zaki\n",
            "My Age is: 29\n"
          ]
        }
      ],
      "source": [
        "# 2. Write a Python program that displays your name and age.\n",
        "\n",
        "name = \"Zaki\"\n",
        "age = 29\n",
        "\n",
        "print(\"My name is:\", name)\n",
        "print(\"My Age is:\", age)"
      ]
    },
    {
      "cell_type": "code",
      "source": [
        "# 3. Write code to print all the pre-defined keywords in Python using the keyword library.\n",
        "\n",
        "import keyword\n",
        "\n",
        "print(\"List of Python Keywords:\")\n",
        "print(keyword.kwlist)"
      ],
      "metadata": {
        "colab": {
          "base_uri": "https://localhost:8080/"
        },
        "id": "uOdSaIwOXo18",
        "outputId": "88dfc4aa-9e8a-4e86-d4d7-a5d5b17bd531"
      },
      "execution_count": 7,
      "outputs": [
        {
          "output_type": "stream",
          "name": "stdout",
          "text": [
            "List of Python Keywords:\n",
            "['False', 'None', 'True', 'and', 'as', 'assert', 'async', 'await', 'break', 'class', 'continue', 'def', 'del', 'elif', 'else', 'except', 'finally', 'for', 'from', 'global', 'if', 'import', 'in', 'is', 'lambda', 'nonlocal', 'not', 'or', 'pass', 'raise', 'return', 'try', 'while', 'with', 'yield']\n"
          ]
        }
      ]
    },
    {
      "cell_type": "code",
      "source": [
        "# 4. Write a program that checks if a given word is a Python keyword.\n",
        "\n",
        "import keyword\n",
        "\n",
        "word = input(\"Enter a word: \")\n",
        "\n",
        "if keyword.iskeyword(word):\n",
        "    print(word,\"is a Python keyword.\")\n",
        "else:\n",
        "    print(word, \"is NOT a Python keyword.\")\n",
        "\n"
      ],
      "metadata": {
        "id": "gFwWCY6YZHFe",
        "colab": {
          "base_uri": "https://localhost:8080/"
        },
        "outputId": "d396427c-00a7-4101-fe1a-6609cf652e0f"
      },
      "execution_count": 8,
      "outputs": [
        {
          "output_type": "stream",
          "name": "stdout",
          "text": [
            "Enter a word: or\n",
            "or is a Python keyword.\n"
          ]
        }
      ]
    },
    {
      "cell_type": "code",
      "source": [
        "''' 5. Create a list and tuple in Python, and demonstrate how attempting to change an element works differently\n",
        "for each.\n",
        "'''\n",
        "# Creating a list (mutable)\n",
        "\n",
        "List = [10, 20, 30, 40]\n",
        "print(\"Original list:\", List)\n",
        "\n",
        "# Changing an element in the list\n",
        "\n",
        "List[1]= 200\n",
        "print(\"Modified list:\", List)\n",
        "\n",
        "\n",
        "# Creating a tuple (immutable)\n",
        "\n",
        "Tuple = (10, 20, 30, 40)\n",
        "print(\"Original tuple:\", Tuple)\n",
        "\n",
        "# Trying to change an element in the tuple\n",
        "try:\n",
        "    Tuple[1] = 200\n",
        "except TypeError as e:\n",
        "    print(\"Error when modifying tuple:\", e)\n"
      ],
      "metadata": {
        "colab": {
          "base_uri": "https://localhost:8080/"
        },
        "id": "yUoL_DyZG5eN",
        "outputId": "d2fcacf9-49ab-44f0-e62d-6e324621636c"
      },
      "execution_count": 11,
      "outputs": [
        {
          "output_type": "stream",
          "name": "stdout",
          "text": [
            "Original list: [10, 20, 30, 40]\n",
            "Modified list: [10, 200, 30, 40]\n",
            "Original tuple: (10, 20, 30, 40)\n",
            "Error when modifying tuple: 'tuple' object does not support item assignment\n"
          ]
        }
      ]
    },
    {
      "cell_type": "code",
      "source": [
        "# 6. Write a function to demonstrate the behavior of mutable and immutable arguments.\n",
        "\n",
        "def change(num, my_list):\n",
        "    # try to change both\n",
        "    num = num + 10       # integer (immutable)\n",
        "    my_list.append(100)  # list (mutable)\n",
        "\n",
        "    print(\"Inside function:\")\n",
        "    print(\"num =\", num)\n",
        "    print(\"my_list =\", my_list)\n",
        "\n",
        "\n",
        "# integer (immutable)\n",
        "n = 50\n",
        "# list (mutable)\n",
        "lst = [1, 2, 3]\n",
        "\n",
        "print(\"Before function:\")\n",
        "print(\"n =\", n)\n",
        "print(\"lst =\", lst)\n",
        "\n",
        "change(n, lst)\n",
        "\n",
        "print(\"\\nAfter function:\")\n",
        "print(\"n =\", n)       # not changed\n",
        "print(\"lst =\", lst)   # changed"
      ],
      "metadata": {
        "colab": {
          "base_uri": "https://localhost:8080/"
        },
        "id": "EQzjPPGfI9gD",
        "outputId": "89a796b7-c29a-41ab-e97b-16c4c5f21039"
      },
      "execution_count": 12,
      "outputs": [
        {
          "output_type": "stream",
          "name": "stdout",
          "text": [
            "Before function:\n",
            "n = 50\n",
            "lst = [1, 2, 3]\n",
            "Inside function:\n",
            "num = 60\n",
            "my_list = [1, 2, 3, 100]\n",
            "\n",
            "After function:\n",
            "n = 50\n",
            "lst = [1, 2, 3, 100]\n"
          ]
        }
      ]
    },
    {
      "cell_type": "code",
      "source": [
        "# 7. Write a program that performs basic arithmetic operations on two user-input numbers.\n",
        "\n",
        "# Take input from user\n",
        "a = float(input(\"Enter first number: \"))\n",
        "b = float(input(\"Enter second number: \"))\n",
        "\n",
        "# Perform arithmetic operations\n",
        "print(\"\\nResults:\")\n",
        "print(\"Addition:\", a + b)\n",
        "print(\"Subtraction:\", a - b)\n",
        "print(\"Multiplication:\", a * b)\n",
        "\n",
        "# Check if divisor is not zero\n",
        "if b != 0:\n",
        "    print(\"Division:\", a / b)\n",
        "else:\n",
        "    print(\"Division: Cannot divide by zero\")"
      ],
      "metadata": {
        "colab": {
          "base_uri": "https://localhost:8080/"
        },
        "id": "szhkJJ7jKf8e",
        "outputId": "a32905af-121b-473b-b733-cb3fea5c8baf"
      },
      "execution_count": 14,
      "outputs": [
        {
          "output_type": "stream",
          "name": "stdout",
          "text": [
            "Enter first number: 15\n",
            "Enter second number: 3\n",
            "\n",
            "Results:\n",
            "Addition: 18.0\n",
            "Subtraction: 12.0\n",
            "Multiplication: 45.0\n",
            "Division: 5.0\n"
          ]
        }
      ]
    },
    {
      "cell_type": "code",
      "source": [
        "# 8. Write a program to demonstrate the use of logical operators.\n",
        "\n",
        "# Take input from user\n",
        "a = int(input(\"Enter first number: \"))\n",
        "b = int(input(\"Enter second number: \"))\n",
        "\n",
        "print(\"\\nLogical Operator Demonstration:\")\n",
        "\n",
        "# AND operator\n",
        "print(\"a > 0 and b > 0:\", a > 0 and b > 0)\n",
        "\n",
        "# OR operator\n",
        "print(\"a > 0 or b > 0:\", a > 0 or b > 0)\n",
        "\n",
        "# NOT operator\n",
        "print(\"not(a > 0):\", not (a > 0))"
      ],
      "metadata": {
        "colab": {
          "base_uri": "https://localhost:8080/"
        },
        "id": "bj--aYTALT6e",
        "outputId": "92957538-03b5-48af-8330-70666f472f7c"
      },
      "execution_count": 15,
      "outputs": [
        {
          "output_type": "stream",
          "name": "stdout",
          "text": [
            "Enter first number: 4\n",
            "Enter second number: -3\n",
            "\n",
            "Logical Operator Demonstration:\n",
            "a > 0 and b > 0: False\n",
            "a > 0 or b > 0: True\n",
            "not(a > 0): False\n"
          ]
        }
      ]
    },
    {
      "cell_type": "code",
      "source": [
        "# 9. Write a Python program to convert user input from string to integer, float, and boolean types.\n",
        "\n",
        "# Take input from user (string)\n",
        "user_input = input(\"Enter something: \")\n",
        "\n",
        "print(\"\\nType Conversions:\")\n",
        "\n",
        "# Convert to integer\n",
        "try:\n",
        "    int_value = int(user_input)\n",
        "    print(\"As Integer:\", int_value)\n",
        "except ValueError:\n",
        "    print(\"As Integer: Cannot convert\")\n",
        "\n",
        "# Convert to float\n",
        "try:\n",
        "    float_value = float(user_input)\n",
        "    print(\"As Float:\", float_value)\n",
        "except ValueError:\n",
        "    print(\"As Float: Cannot convert\")\n",
        "\n",
        "# Convert to boolean\n",
        "bool_value = bool(user_input)   # any non-empty string is True\n",
        "print(\"As Boolean:\", bool_value)\n"
      ],
      "metadata": {
        "colab": {
          "base_uri": "https://localhost:8080/"
        },
        "id": "z9qajMWcL0QO",
        "outputId": "b58d1d10-3762-4221-85fa-8039a166cf79"
      },
      "execution_count": 16,
      "outputs": [
        {
          "output_type": "stream",
          "name": "stdout",
          "text": [
            "Enter something: 20\n",
            "\n",
            "Type Conversions:\n",
            "As Integer: 20\n",
            "As Float: 20.0\n",
            "As Boolean: True\n"
          ]
        }
      ]
    },
    {
      "cell_type": "code",
      "source": [
        "# 10. Write code to demonstrate type casting with list elements.\n",
        "\n",
        "# Original List with string numbers.\n",
        "\n",
        "List = [\"10\", \"20\", \"30\", \"40\"]\n",
        "print(\"Original list(string):\", List)\n",
        "\n",
        "# Convert each element to integer\n",
        "\n",
        "Int_List = [int(item) for item in List]\n",
        "print(\"List after converting to integers:\", Int_List)\n",
        "\n",
        "# Convert each element to float\n",
        "\n",
        "Float_List = [float(item) for item in List]\n",
        "print(\"List after converting to float:\", Float_List)\n",
        "\n",
        "# Convert each element to boolean\n",
        "# (all non-empty strings become True)\n",
        "\n",
        "Bool_List = [bool(item) for item in List]\n",
        "print(\"List after converting to Booleans:\", Bool_List)"
      ],
      "metadata": {
        "colab": {
          "base_uri": "https://localhost:8080/"
        },
        "id": "TauavS5UNTYo",
        "outputId": "b889e257-7d73-408f-8b9b-43c3e220fa2f"
      },
      "execution_count": 20,
      "outputs": [
        {
          "output_type": "stream",
          "name": "stdout",
          "text": [
            "Original list(string): ['10', '20', '30', '40']\n",
            "List after converting to integers: [10, 20, 30, 40]\n",
            "List after converting to float: [10.0, 20.0, 30.0, 40.0]\n",
            "List after converting to Booleans: [True, True, True, True]\n"
          ]
        }
      ]
    },
    {
      "cell_type": "code",
      "source": [
        "# 11. Write a program that checks if a number is positive, negative, or zero.\n",
        "\n",
        "# Take input from user\n",
        "num = float(input(\"Enter a number: \"))\n",
        "\n",
        "# Check the condition\n",
        "if num > 0:\n",
        "    print(\"The number is Positive\")\n",
        "elif num < 0:\n",
        "    print(\"The number is Negative\")\n",
        "else:\n",
        "    print(\"The number is Zero\")"
      ],
      "metadata": {
        "colab": {
          "base_uri": "https://localhost:8080/"
        },
        "id": "DVINf3wZQihK",
        "outputId": "26eef41b-27cc-4576-de3b-237af371ad76"
      },
      "execution_count": 21,
      "outputs": [
        {
          "output_type": "stream",
          "name": "stdout",
          "text": [
            "Enter a number: -6\n",
            "The number is Negative\n"
          ]
        }
      ]
    },
    {
      "cell_type": "code",
      "source": [
        "# 12. Write a for loop to print numbers from 1 to 10.\n",
        "\n",
        "for i in range(1, 11):\n",
        "    print(i)"
      ],
      "metadata": {
        "colab": {
          "base_uri": "https://localhost:8080/"
        },
        "id": "kSvOPumGQ_-i",
        "outputId": "27e874b2-7e44-46ad-aefa-17658d3073f9"
      },
      "execution_count": 22,
      "outputs": [
        {
          "output_type": "stream",
          "name": "stdout",
          "text": [
            "1\n",
            "2\n",
            "3\n",
            "4\n",
            "5\n",
            "6\n",
            "7\n",
            "8\n",
            "9\n",
            "10\n"
          ]
        }
      ]
    },
    {
      "cell_type": "code",
      "source": [
        "# 13. Write a Python program to find the sum of all even numbers between 1 and 50.\n",
        "\n",
        "total = 0\n",
        "for i in range(1, 51):\n",
        "    if i % 2 == 0:   # check if even\n",
        "        total += i\n",
        "\n",
        "print(\"Sum of even numbers from 1 to 50 is:\", total)"
      ],
      "metadata": {
        "colab": {
          "base_uri": "https://localhost:8080/"
        },
        "id": "Oxr06m0HRPHA",
        "outputId": "6ebc8a6f-2113-4fe8-c266-30069580df92"
      },
      "execution_count": 24,
      "outputs": [
        {
          "output_type": "stream",
          "name": "stdout",
          "text": [
            "Sum of even numbers from 1 to 50 is: 650\n"
          ]
        }
      ]
    },
    {
      "cell_type": "code",
      "source": [
        "# 14. Write a program to reverse a string using a while loop.\n",
        "\n",
        "text = \"pwskills\"\n",
        "\n",
        "reversed_text = \"\"\n",
        "i = len(text) - 1   # start from last character\n",
        "\n",
        "# Loop backwards\n",
        "while i >= 0:\n",
        "    reversed_text += text[i]\n",
        "    i -= 1\n",
        "\n",
        "print(\"Reversed string:\", reversed_text)\n"
      ],
      "metadata": {
        "colab": {
          "base_uri": "https://localhost:8080/"
        },
        "id": "zpQ42QfOR0Uf",
        "outputId": "4ba44408-a888-47ac-caa0-d77bc51b661d"
      },
      "execution_count": 26,
      "outputs": [
        {
          "output_type": "stream",
          "name": "stdout",
          "text": [
            "Reversed string: sllikswp\n"
          ]
        }
      ]
    },
    {
      "cell_type": "code",
      "source": [
        "# 15. Write a Python program to calculate the factorial of a number provided by the user using a while loop\n",
        "\n",
        "# Take input from user\n",
        "num = int(input(\"Enter a number: \"))\n",
        "\n",
        "# Initialize result\n",
        "factorial = 1\n",
        "i = 1\n",
        "\n",
        "# While loop to calculate factorial\n",
        "while i <= num:\n",
        "    factorial *= i\n",
        "    i += 1\n",
        "\n",
        "print(f\"Factorial of {num} is:\", factorial)"
      ],
      "metadata": {
        "colab": {
          "base_uri": "https://localhost:8080/"
        },
        "id": "uzND23DNSkMv",
        "outputId": "0791940c-71de-4c73-9040-94997b67ce32"
      },
      "execution_count": 29,
      "outputs": [
        {
          "output_type": "stream",
          "name": "stdout",
          "text": [
            "Enter a number: 4\n",
            "Factorial of 4 is: 24\n"
          ]
        }
      ]
    }
  ]
}